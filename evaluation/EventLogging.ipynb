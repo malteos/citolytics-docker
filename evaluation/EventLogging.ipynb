{
 "cells": [
  {
   "cell_type": "markdown",
   "metadata": {},
   "source": [
    "# Analysis of EventLoggin data (simplewiki)\n",
    "\n",
    "We collect data from the following Wikipedia event logging schemas:\n",
    "\n",
    "- [MobileWikiAppArticleSuggestions](https://meta.wikimedia.org/wiki/Schema_talk:MobileWikiAppArticleSuggestions)\n",
    "- [MobileWikiAppPageScroll](https://meta.wikimedia.org/wiki/Schema_talk:MobileWikiAppPageScroll)\n",
    "- [MobileWikiAppSessions](https://meta.wikimedia.org/wiki/Schema:MobileWikiAppSessions)\n",
    "- *MobileAppShareAttempts* is not used by the current Android app version\n"
   ]
  },
  {
   "cell_type": "code",
   "execution_count": 36,
   "metadata": {
    "collapsed": true
   },
   "outputs": [],
   "source": [
    "import scipy.stats as stats\n",
    "import matplotlib\n",
    "import matplotlib.pyplot as plt\n",
    "import numpy as np\n",
    "import pandas as pd\n",
    "import MySQLdb\n",
    "from tabulate import tabulate\n",
    "from _mysql_exceptions import OperationalError\n",
    "from IPython.display import display\n",
    "from eventlogging import ELEvaluation"
   ]
  },
  {
   "cell_type": "code",
   "execution_count": 27,
   "metadata": {
    "collapsed": true
   },
   "outputs": [],
   "source": [
    "el = ELEvaluation(db_host = 'mysql', db_user = 'mediawiki', db_password = 'mediawiki', db_name = 'mediawiki')\n"
   ]
  },
  {
   "cell_type": "code",
   "execution_count": 28,
   "metadata": {},
   "outputs": [
    {
     "data": {
      "image/png": "[encoded data removed]",
      "text/plain": [
       "<matplotlib.figure.Figure at 0x7f0a453025d0>"
      ]
     },
     "metadata": {},
     "output_type": "display_data"
    }
   ],
   "source": [
    "# Events over time\n",
    "datetimes, counts = el.get_event_time_series()\n",
    "plt.plot(np.array(datetimes), np.array(counts))\n",
    "plt.show()"
   ]
  },
  {
   "cell_type": "code",
   "execution_count": 29,
   "metadata": {},
   "outputs": [
    {
     "data": {
      "text/html": [
       "<div>\n",
       "<table border=\"1\" class=\"dataframe\">\n",
       "  <thead>\n",
       "    <tr style=\"text-align: right;\">\n",
       "      <th></th>\n",
       "      <th>readMoreItem</th>\n",
       "      <th>views</th>\n",
       "    </tr>\n",
       "  </thead>\n",
       "  <tbody>\n",
       "    <tr>\n",
       "      <th>0</th>\n",
       "      <td>United_States</td>\n",
       "      <td>15</td>\n",
       "    </tr>\n",
       "    <tr>\n",
       "      <th>1</th>\n",
       "      <td>Spain</td>\n",
       "      <td>9</td>\n",
       "    </tr>\n",
       "    <tr>\n",
       "      <th>2</th>\n",
       "      <td>Judaism</td>\n",
       "      <td>8</td>\n",
       "    </tr>\n",
       "    <tr>\n",
       "      <th>3</th>\n",
       "      <td>Moses</td>\n",
       "      <td>8</td>\n",
       "    </tr>\n",
       "    <tr>\n",
       "      <th>4</th>\n",
       "      <td>United_Kingdom</td>\n",
       "      <td>7</td>\n",
       "    </tr>\n",
       "    <tr>\n",
       "      <th>5</th>\n",
       "      <td>England</td>\n",
       "      <td>7</td>\n",
       "    </tr>\n",
       "    <tr>\n",
       "      <th>6</th>\n",
       "      <td>Airship</td>\n",
       "      <td>7</td>\n",
       "    </tr>\n",
       "    <tr>\n",
       "      <th>7</th>\n",
       "      <td>Madrid</td>\n",
       "      <td>6</td>\n",
       "    </tr>\n",
       "    <tr>\n",
       "      <th>8</th>\n",
       "      <td>Refraction</td>\n",
       "      <td>6</td>\n",
       "    </tr>\n",
       "    <tr>\n",
       "      <th>9</th>\n",
       "      <td>Telescope</td>\n",
       "      <td>6</td>\n",
       "    </tr>\n",
       "  </tbody>\n",
       "</table>\n",
       "</div>"
      ],
      "text/plain": [
       "     readMoreItem  views\n",
       "0   United_States     15\n",
       "1           Spain      9\n",
       "2         Judaism      8\n",
       "3           Moses      8\n",
       "4  United_Kingdom      7\n",
       "5         England      7\n",
       "6         Airship      7\n",
       "7          Madrid      6\n",
       "8      Refraction      6\n",
       "9       Telescope      6"
      ]
     },
     "metadata": {},
     "output_type": "display_data"
    },
    {
     "data": {
      "text/html": [
       "<div>\n",
       "<table border=\"1\" class=\"dataframe\">\n",
       "  <thead>\n",
       "    <tr style=\"text-align: right;\">\n",
       "      <th></th>\n",
       "      <th>readMoreItem</th>\n",
       "      <th>clicks</th>\n",
       "    </tr>\n",
       "  </thead>\n",
       "  <tbody>\n",
       "    <tr>\n",
       "      <th>0</th>\n",
       "      <td>United_States</td>\n",
       "      <td>2</td>\n",
       "    </tr>\n",
       "    <tr>\n",
       "      <th>1</th>\n",
       "      <td>Torah</td>\n",
       "      <td>2</td>\n",
       "    </tr>\n",
       "    <tr>\n",
       "      <th>2</th>\n",
       "      <td>Brandenburg_Gate</td>\n",
       "      <td>2</td>\n",
       "    </tr>\n",
       "    <tr>\n",
       "      <th>3</th>\n",
       "      <td>London</td>\n",
       "      <td>2</td>\n",
       "    </tr>\n",
       "    <tr>\n",
       "      <th>4</th>\n",
       "      <td>The_Guardian</td>\n",
       "      <td>2</td>\n",
       "    </tr>\n",
       "    <tr>\n",
       "      <th>5</th>\n",
       "      <td>Photography</td>\n",
       "      <td>2</td>\n",
       "    </tr>\n",
       "    <tr>\n",
       "      <th>6</th>\n",
       "      <td>Spain</td>\n",
       "      <td>1</td>\n",
       "    </tr>\n",
       "    <tr>\n",
       "      <th>7</th>\n",
       "      <td>Blimp</td>\n",
       "      <td>1</td>\n",
       "    </tr>\n",
       "    <tr>\n",
       "      <th>8</th>\n",
       "      <td>Bible</td>\n",
       "      <td>1</td>\n",
       "    </tr>\n",
       "    <tr>\n",
       "      <th>9</th>\n",
       "      <td>Shame</td>\n",
       "      <td>1</td>\n",
       "    </tr>\n",
       "  </tbody>\n",
       "</table>\n",
       "</div>"
      ],
      "text/plain": [
       "       readMoreItem  clicks\n",
       "0     United_States       2\n",
       "1             Torah       2\n",
       "2  Brandenburg_Gate       2\n",
       "3            London       2\n",
       "4      The_Guardian       2\n",
       "5       Photography       2\n",
       "6             Spain       1\n",
       "7             Blimp       1\n",
       "8             Bible       1\n",
       "9             Shame       1"
      ]
     },
     "metadata": {},
     "output_type": "display_data"
    },
    {
     "data": {
      "text/html": [
       "<div>\n",
       "<table border=\"1\" class=\"dataframe\">\n",
       "  <thead>\n",
       "    <tr style=\"text-align: right;\">\n",
       "      <th></th>\n",
       "      <th>readMoreSource</th>\n",
       "      <th>clicks</th>\n",
       "      <th>views</th>\n",
       "      <th>ctr</th>\n",
       "    </tr>\n",
       "  </thead>\n",
       "  <tbody>\n",
       "    <tr>\n",
       "      <th>0</th>\n",
       "      <td>MLT</td>\n",
       "      <td>34.0</td>\n",
       "      <td>276</td>\n",
       "      <td>0.1232</td>\n",
       "    </tr>\n",
       "    <tr>\n",
       "      <th>1</th>\n",
       "      <td>Citolytics</td>\n",
       "      <td>35.0</td>\n",
       "      <td>261</td>\n",
       "      <td>0.1341</td>\n",
       "    </tr>\n",
       "  </tbody>\n",
       "</table>\n",
       "</div>"
      ],
      "text/plain": [
       "  readMoreSource  clicks  views     ctr\n",
       "0            MLT    34.0    276  0.1232\n",
       "1     Citolytics    35.0    261  0.1341"
      ]
     },
     "metadata": {},
     "output_type": "display_data"
    },
    {
     "data": {
      "text/html": [
       "<div>\n",
       "<table border=\"1\" class=\"dataframe\">\n",
       "  <thead>\n",
       "    <tr style=\"text-align: right;\">\n",
       "      <th></th>\n",
       "      <th>_metric</th>\n",
       "      <th>count</th>\n",
       "    </tr>\n",
       "  </thead>\n",
       "  <tbody>\n",
       "    <tr>\n",
       "      <th>0</th>\n",
       "      <td>users</td>\n",
       "      <td>13</td>\n",
       "    </tr>\n",
       "    <tr>\n",
       "      <th>1</th>\n",
       "      <td>suggestions</td>\n",
       "      <td>185</td>\n",
       "    </tr>\n",
       "  </tbody>\n",
       "</table>\n",
       "</div>"
      ],
      "text/plain": [
       "       _metric  count\n",
       "0        users     13\n",
       "1  suggestions    185"
      ]
     },
     "metadata": {},
     "output_type": "display_data"
    }
   ],
   "source": [
    "display(el.get_most_recommended_items())\n",
    "display(el.get_most_clicked_items())\n",
    "display(el.get_stats_per_source())\n",
    "display(el.get_metric_stats())\n"
   ]
  },
  {
   "cell_type": "code",
   "execution_count": 30,
   "metadata": {},
   "outputs": [
    {
     "data": {
      "text/html": [
       "<div>\n",
       "<table border=\"1\" class=\"dataframe\">\n",
       "  <thead>\n",
       "    <tr style=\"text-align: right;\">\n",
       "      <th></th>\n",
       "      <th>readMoreSource</th>\n",
       "      <th>longClicks</th>\n",
       "      <th>avgTimeSpent</th>\n",
       "      <th>avgMaxPercentViewed</th>\n",
       "    </tr>\n",
       "  </thead>\n",
       "  <tbody>\n",
       "    <tr>\n",
       "      <th>0</th>\n",
       "      <td>MLT</td>\n",
       "      <td>19.0</td>\n",
       "      <td>46.0526</td>\n",
       "      <td>97.7895</td>\n",
       "    </tr>\n",
       "    <tr>\n",
       "      <th>1</th>\n",
       "      <td>Citolytics</td>\n",
       "      <td>16.0</td>\n",
       "      <td>26.0625</td>\n",
       "      <td>99.8125</td>\n",
       "    </tr>\n",
       "  </tbody>\n",
       "</table>\n",
       "</div>"
      ],
      "text/plain": [
       "  readMoreSource  longClicks  avgTimeSpent  avgMaxPercentViewed\n",
       "0            MLT        19.0       46.0526              97.7895\n",
       "1     Citolytics        16.0       26.0625              99.8125"
      ]
     },
     "metadata": {},
     "output_type": "display_data"
    },
    {
     "name": "stderr",
     "output_type": "stream",
     "text": [
      "/opt/conda/envs/python2/lib/python2.7/site-packages/pandas/io/sql.py:1401: Warning: Truncated incorrect time value: '1780:08:13'\n",
      "  cur.execute(*args)\n",
      "/opt/conda/envs/python2/lib/python2.7/site-packages/pandas/io/sql.py:1401: Warning: Truncated incorrect time value: '1660:57:52'\n",
      "  cur.execute(*args)\n",
      "/opt/conda/envs/python2/lib/python2.7/site-packages/pandas/io/sql.py:1401: Warning: Truncated incorrect time value: '1626:47:27'\n",
      "  cur.execute(*args)\n",
      "/opt/conda/envs/python2/lib/python2.7/site-packages/pandas/io/sql.py:1401: Warning: Truncated incorrect time value: '1609:14:13'\n",
      "  cur.execute(*args)\n",
      "/opt/conda/envs/python2/lib/python2.7/site-packages/pandas/io/sql.py:1401: Warning: Truncated incorrect time value: '1297:32:18'\n",
      "  cur.execute(*args)\n",
      "/opt/conda/envs/python2/lib/python2.7/site-packages/pandas/io/sql.py:1401: Warning: Truncated incorrect time value: '1296:40:30'\n",
      "  cur.execute(*args)\n",
      "/opt/conda/envs/python2/lib/python2.7/site-packages/pandas/io/sql.py:1401: Warning: Truncated incorrect time value: '1269:07:57'\n",
      "  cur.execute(*args)\n",
      "/opt/conda/envs/python2/lib/python2.7/site-packages/pandas/io/sql.py:1401: Warning: Truncated incorrect time value: '1240:26:54'\n",
      "  cur.execute(*args)\n",
      "/opt/conda/envs/python2/lib/python2.7/site-packages/pandas/io/sql.py:1401: Warning: Truncated incorrect time value: '1103:29:10'\n",
      "  cur.execute(*args)\n",
      "/opt/conda/envs/python2/lib/python2.7/site-packages/pandas/io/sql.py:1401: Warning: Truncated incorrect time value: '1103:28:32'\n",
      "  cur.execute(*args)\n",
      "/opt/conda/envs/python2/lib/python2.7/site-packages/pandas/io/sql.py:1401: Warning: Truncated incorrect time value: '1070:00:46'\n",
      "  cur.execute(*args)\n",
      "/opt/conda/envs/python2/lib/python2.7/site-packages/pandas/io/sql.py:1401: Warning: Truncated incorrect time value: '1069:59:55'\n",
      "  cur.execute(*args)\n",
      "/opt/conda/envs/python2/lib/python2.7/site-packages/pandas/io/sql.py:1401: Warning: Truncated incorrect time value: '1060:43:44'\n",
      "  cur.execute(*args)\n",
      "/opt/conda/envs/python2/lib/python2.7/site-packages/pandas/io/sql.py:1401: Warning: Truncated incorrect time value: '1060:43:06'\n",
      "  cur.execute(*args)\n",
      "/opt/conda/envs/python2/lib/python2.7/site-packages/pandas/io/sql.py:1401: Warning: Truncated incorrect time value: '1047:45:16'\n",
      "  cur.execute(*args)\n",
      "/opt/conda/envs/python2/lib/python2.7/site-packages/pandas/io/sql.py:1401: Warning: Truncated incorrect time value: '855:38:13'\n",
      "  cur.execute(*args)\n"
     ]
    },
    {
     "data": {
      "text/html": [
       "<div>\n",
       "<table border=\"1\" class=\"dataframe\">\n",
       "  <thead>\n",
       "    <tr style=\"text-align: right;\">\n",
       "      <th></th>\n",
       "      <th>readMoreSource</th>\n",
       "      <th>sessionCount</th>\n",
       "      <th>totalPages</th>\n",
       "      <th>avgTotalPages</th>\n",
       "      <th>avgLength</th>\n",
       "      <th>avgFromSearch</th>\n",
       "      <th>avgFromRandom</th>\n",
       "      <th>avgFromInternal</th>\n",
       "      <th>avgFromBack</th>\n",
       "    </tr>\n",
       "  </thead>\n",
       "  <tbody>\n",
       "    <tr>\n",
       "      <th>0</th>\n",
       "      <td>MLT</td>\n",
       "      <td>43</td>\n",
       "      <td>191.0</td>\n",
       "      <td>4.4419</td>\n",
       "      <td>315.814</td>\n",
       "      <td>0.907</td>\n",
       "      <td>0.0</td>\n",
       "      <td>3.5349</td>\n",
       "      <td>0.5814</td>\n",
       "    </tr>\n",
       "    <tr>\n",
       "      <th>1</th>\n",
       "      <td>Citolytics</td>\n",
       "      <td>1</td>\n",
       "      <td>1.0</td>\n",
       "      <td>1.0000</td>\n",
       "      <td>27.000</td>\n",
       "      <td>0.000</td>\n",
       "      <td>0.0</td>\n",
       "      <td>0.0000</td>\n",
       "      <td>1.0000</td>\n",
       "    </tr>\n",
       "  </tbody>\n",
       "</table>\n",
       "</div>"
      ],
      "text/plain": [
       "  readMoreSource  sessionCount  totalPages  avgTotalPages  avgLength  \\\n",
       "0            MLT            43       191.0         4.4419    315.814   \n",
       "1     Citolytics             1         1.0         1.0000     27.000   \n",
       "\n",
       "   avgFromSearch  avgFromRandom  avgFromInternal  avgFromBack  \n",
       "0          0.907            0.0           3.5349       0.5814  \n",
       "1          0.000            0.0           0.0000       1.0000  "
      ]
     },
     "metadata": {},
     "output_type": "display_data"
    }
   ],
   "source": [
    "display(el.get_long_stats_per_source())\n",
    "display(el.get_session_stats_per_source())"
   ]
  },
  {
   "cell_type": "code",
   "execution_count": null,
   "metadata": {
    "collapsed": true
   },
   "outputs": [],
   "source": []
  },
  {
   "cell_type": "code",
   "execution_count": 64,
   "metadata": {},
   "outputs": [
    {
     "name": "stdout",
     "output_type": "stream",
     "text": [
      "Not significant at p < 0.05 (p = 0.816330)\n"
     ]
    }
   ],
   "source": [
    "# Significance test\n",
    "\n",
    "df = el.get_stats_per_source()\n",
    "df = df.set_index('readMoreSource')\n",
    "df['noClicks'] = df.apply(lambda r: r['views'] * 100 - r['clicks'], axis=1)\n",
    "\n",
    "# a: clicks, no clicks (= views - clicks)\n",
    "# b: clicks, no clicks (= views - clicks\n",
    "#obs = np.array([group_a, group_b])\n",
    "\n",
    "obs = np.array([\n",
    "    [df.loc['MLT', 'clicks'], df.loc['MLT', 'noClicks']],\n",
    "    [df.loc['Citolytics', 'clicks'], df.loc['Citolytics', 'noClicks']],\n",
    "])\n",
    "\n",
    "#obs = np.array([[14452, 4073, 4287], [30864, 11439, 9887]])\n",
    "#print(obs.shape) # 2,n\n",
    "chi2, p, dof, expected = stats.chi2_contingency(obs)\n",
    "\n",
    "#print(p) # p < 0.05\n",
    "\n",
    "if p < 0.05:\n",
    "    print('Significant at p < 0.05 (p = %f)' % p)\n",
    "else:\n",
    "    print('Not significant at p < 0.05 (p = %f)' % p)\n",
    "\n",
    "\n"
   ]
  },
  {
   "cell_type": "code",
   "execution_count": null,
   "metadata": {
    "collapsed": true
   },
   "outputs": [],
   "source": []
  },
  {
   "cell_type": "code",
   "execution_count": null,
   "metadata": {
    "collapsed": true
   },
   "outputs": [],
   "source": []
  },
  {
   "cell_type": "code",
   "execution_count": null,
   "metadata": {
    "collapsed": true
   },
   "outputs": [],
   "source": []
  }
 ],
 "metadata": {
  "kernelspec": {
   "display_name": "Python 2",
   "language": "python",
   "name": "python2"
  },
  "language_info": {
   "codemirror_mode": {
    "name": "ipython",
    "version": 2
   },
   "file_extension": ".py",
   "mimetype": "text/x-python",
   "name": "python",
   "nbconvert_exporter": "python",
   "pygments_lexer": "ipython2",
   "version": "2.7.13"
  }
 },
 "nbformat": 4,
 "nbformat_minor": 2
}
